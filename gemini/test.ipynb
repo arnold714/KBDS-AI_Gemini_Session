{
 "cells": [
  {
   "cell_type": "code",
   "execution_count": null,
   "id": "23205ee3",
   "metadata": {},
   "outputs": [],
   "source": [
    "import os\n",
    "import requests\n",
    "import streamlit as st\n",
    "from dotenv import load_dotenv\n",
    "\n",
    "import google.generativeai as genai\n",
    "from google.generativeai import GenerationConfig"
   ]
  },
  {
   "cell_type": "code",
   "execution_count": null,
   "id": "17863f7a",
   "metadata": {},
   "outputs": [],
   "source": [
    "load_dotenv()"
   ]
  },
  {
   "cell_type": "code",
   "execution_count": null,
   "id": "13dabd99",
   "metadata": {},
   "outputs": [],
   "source": [
    "api_key = os.getenv(\"GEMINI_API_KEY\") # GEMINI_API_KEY 키에 해당하는 value를 가져온다 (=api key)\n",
    "print(api_key[:-5]) # 보안상의 이유로 끝의 5자리는 생략!"
   ]
  },
  {
   "cell_type": "code",
   "execution_count": null,
   "id": "18095d08",
   "metadata": {},
   "outputs": [],
   "source": [
    "# api key를 등록, 저장\n",
    "# 이 코드를 실행함으로써 Gemini 모델 객체를 만들거나 generate_content()와 같은 api 호출 메소드를 반복해서 실행할 때 매번 key를 넘기지 않아도 된다. -> 일종의 프로젝트 key 전역설정\n",
    "genai.configure(api_key=os.getenv(\"GEMINI_API_KEY\"))"
   ]
  },
  {
   "cell_type": "code",
   "execution_count": null,
   "id": "7715ca00",
   "metadata": {},
   "outputs": [],
   "source": [
    "#### 모델 객체 생성\n",
    "-  LLM 모델 종류\n",
    "> gemini-2.0-flash\n",
    "\n",
    "> gemini-2.5-flash\n",
    "\n",
    "> gemini-2.5-pro : Google Ai Studio에서 무료 사용 가능"
   ]
  },
  {
   "cell_type": "code",
   "execution_count": null,
   "id": "f53c29a8",
   "metadata": {},
   "outputs": [],
   "source": [
    "model = genai.GenerativeModel('gemini-2.5-flash')"
   ]
  },
  {
   "cell_type": "code",
   "execution_count": null,
   "id": "1d758e1c",
   "metadata": {},
   "outputs": [],
   "source": [
    "model"
   ]
  },
  {
   "cell_type": "code",
   "execution_count": null,
   "id": "017e9b84",
   "metadata": {},
   "outputs": [],
   "source": [
    "## reponse : LLM 모델의 답변\n",
    "- response.text → 최종 생성 텍스트\n",
    "- response.candidates → 여러 후보 응답\n",
    "- response.usage_metadata → 토큰 사용량 정보\n",
    "\n",
    "etc..."
   ]
  },
  {
   "cell_type": "code",
   "execution_count": null,
   "id": "7ce0adc3",
   "metadata": {},
   "outputs": [],
   "source": [
    "# 1. generate_content(text) 내의 문장(text)을 프롬프트로 LLM 모델에게 전달\n",
    "# 2. generate_content() : Google Gemini API 서버에 요청\n",
    "# 3. response : LLM 모델이 내놓은 답변 (여러 정보 확인 가능)\n",
    "response = model.generate_content(\"안녕하세요, Gemini API 테스트 중입니다.\")"
   ]
  },
  {
   "cell_type": "code",
   "execution_count": null,
   "id": "f0d4023c",
   "metadata": {},
   "outputs": [],
   "source": [
    "response.text"
   ]
  }
 ],
 "metadata": {
  "language_info": {
   "name": "python"
  }
 },
 "nbformat": 4,
 "nbformat_minor": 5
}
